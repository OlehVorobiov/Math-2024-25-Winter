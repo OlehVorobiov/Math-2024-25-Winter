{
  "nbformat": 4,
  "nbformat_minor": 0,
  "metadata": {
    "colab": {
      "provenance": [],
      "authorship_tag": "ABX9TyNYwIN8cuygst20uw5KS2EX",
      "include_colab_link": true
    },
    "kernelspec": {
      "name": "python3",
      "display_name": "Python 3"
    },
    "language_info": {
      "name": "python"
    }
  },
  "cells": [
    {
      "cell_type": "markdown",
      "metadata": {
        "id": "view-in-github",
        "colab_type": "text"
      },
      "source": [
        "<a href=\"https://colab.research.google.com/github/OlehVorobiov/Math-2024-25-Winter/blob/main/Notebooks_EN/03_Mathematical_Analysis/12_Derivatives/Extremum.ipynb\" target=\"_parent\"><img src=\"https://colab.research.google.com/assets/colab-badge.svg\" alt=\"Open In Colab\"/></a>"
      ]
    },
    {
      "cell_type": "markdown",
      "source": [
        "## 22. Extremum\n",
        "\n",
        "1. The profit function is $P(u) = -2u^2 + 50u - 300$, where $u$ is the number of units sold. Find the number of units that maximize profit.\n",
        "\n",
        "2. You have 10 meters of string, and you need to use it to enclose the largest possible rectangular. Find the dimensions of the rectangle.\n",
        "\n",
        "3. Find extremum od $f(x) = x^2 + 3x - 5$.\n",
        "\n",
        "4. Find extremum of $f(x) =\\frac{x^2+2x+1}{x-1}$."
      ],
      "metadata": {
        "id": "q71MWUr62V6-"
      }
    },
    {
      "cell_type": "markdown",
      "source": [
        "1. The profit function is $P(u) = -2u^2 + 50u - 300$, where $u$ is the number of units sold. Find the number of units that maximize profit.\n",
        "\n",
        "To maximize the profit one has to find a local maximum of the function\n",
        "\n",
        "$P'(u) = 0$\n",
        "\n",
        "$P'(u) = -4u+50$\n",
        "\n",
        "$-4u+50 = 0$\n",
        "\n",
        "$u = 12,5$"
      ],
      "metadata": {
        "id": "mVtknBJd2oiH"
      }
    },
    {
      "cell_type": "markdown",
      "source": [
        "2. You have 10 meters of string, and you need to use it to enclose the largest possible rectangular. Find the dimensions of the rectangle.\n",
        "\n",
        "Let's say length of the rectangle is $L$ and the width is $W$\n",
        "\n",
        "$L + W = 5$\n",
        "\n",
        "$W = 5 - L$\n",
        "\n",
        "The area of the rectangle is:\n",
        "\n",
        "$A = W*L$\n",
        "\n",
        "$A(L) = L(5-L)$\n",
        "\n",
        "$A(L) = -L^2 + 5L$\n",
        "\n",
        "$A'(L) = -2L + 5$\n",
        "\n",
        "$A'(L) = 0$\n",
        "\n",
        "$-2L + 5 = 0$\n",
        "\n",
        "$L = 2,5$\n",
        "\n",
        "$W = 5 - 2,5 = 2,5$"
      ],
      "metadata": {
        "id": "k5edCg0V4KBk"
      }
    },
    {
      "cell_type": "markdown",
      "source": [
        "3. Find extremum od $f(x) = x^2 + 3x - 5$.\n",
        "\n",
        "$f'(x) = 2x + 3$\n",
        "\n",
        "$2x + 3 = 0$\n",
        "\n",
        "$x = -1,5$\n",
        "\n",
        "$f(-1,5) = -\\frac{29}{4}$"
      ],
      "metadata": {
        "id": "0OMTPVaV7MOt"
      }
    },
    {
      "cell_type": "markdown",
      "source": [
        "4. Find extremum of $f(x) =\\frac{x^2+2x+1}{x-1}$.\n",
        "\n",
        "$\\displaystyle f'(x) = \\frac{(2x+2)(x-1) - (x^2+2x+1)}{(x-1)^2}$\n",
        "\n",
        "$\\displaystyle f'(x) = \\frac{2x^2-2x+2x-2 - x^2 - 2x-1}{(x-1)^2}$\n",
        "\n",
        "$\\displaystyle f'(x) = \\frac{x^2 - 2x - 3 }{(x-1)^2}$\n",
        "\n",
        "$\\displaystyle f'(x) = 0$\n",
        "\n",
        "$\\displaystyle \\frac{x^2 - 2x - 3 }{(x-1)^2} = 0$  \n",
        "\n",
        "$x$ can't be equal to 1\n",
        "\n",
        "$ x^2 - 2x - 3 = 0$\n",
        "\n",
        "$(x+1)(x-3) = 0$\n",
        "\n",
        "$x_1 = -1$\n",
        "\n",
        "$x_2 = 3$\n",
        "\n",
        "$f(x_1) = 0$\n",
        "\n",
        "$f(x_2) = 8$\n",
        "\n"
      ],
      "metadata": {
        "id": "stfjfDC58JB3"
      }
    }
  ]
}