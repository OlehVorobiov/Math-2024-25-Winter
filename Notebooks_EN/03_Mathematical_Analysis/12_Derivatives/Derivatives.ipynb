{
  "nbformat": 4,
  "nbformat_minor": 0,
  "metadata": {
    "colab": {
      "provenance": [],
      "authorship_tag": "ABX9TyN3ayvQuxoAOs5rCWIclRS3",
      "include_colab_link": true
    },
    "kernelspec": {
      "name": "python3",
      "display_name": "Python 3"
    },
    "language_info": {
      "name": "python"
    }
  },
  "cells": [
    {
      "cell_type": "markdown",
      "metadata": {
        "id": "view-in-github",
        "colab_type": "text"
      },
      "source": [
        "<a href=\"https://colab.research.google.com/github/OlehVorobiov/Math-2024-25-Winter/blob/main/Notebooks_EN/03_Mathematical_Analysis/12_Derivatives/Derivatives.ipynb\" target=\"_parent\"><img src=\"https://colab.research.google.com/assets/colab-badge.svg\" alt=\"Open In Colab\"/></a>"
      ]
    },
    {
      "cell_type": "markdown",
      "source": [
        "## 21. Derivatives\n",
        "\n",
        "1. Compute derivatives of functions:\n",
        "   * $y(x) = -3x+3$\n",
        "   * $y(x) = \\pi x + \\sin(1)$\n",
        "   * $y(x) = 4+\\sin(2)$\n",
        "   * $y(x) = 2x^3 - 3x^2 + 8x - 9$\n",
        "   * $y(x) = 6 x^{1/3}$\n",
        "   * $y(x) = \\sqrt{x}$\n",
        "   * $y(x) = \\cos(x) + \\sin(x)$\n",
        "   * $y(x) = 2\\sin(x) \\cos(x)$\n",
        "   * $y(x) = x\\sin(x)$\n",
        "   * $y(x) = (x+1)(x+1)$\n",
        "   * $y(x) = \\frac{x}{x+1}$\n",
        "   * $y(x) = (x+1)\\exp(x)$\n",
        "   * $y(x) = \\sin(x^2)$\n",
        "   * $y(x) = \\exp(-2x)$\n",
        "   * $y(x) = \\frac{1}{\\sin(x+1)}$\n",
        "   * $y(x) = \\sqrt{2x+1}$\n",
        "\n",
        "2. Prove:\n",
        "   - $\\frac{d}{dx} (\\ln(\\sin(x))) = \\cot(x)$\n",
        "\n",
        "3. For $f(x) = \\cos(x)$, verify that $f''(x) = -f(x)$.\n",
        "\n",
        "4. Using de l'Hospital's Rule, find the improper limits:\n",
        "   - $\\displaystyle \\lim_{x\\to 0} \\frac{\\sin{x}}{x}$\n",
        "\n",
        "   - $\\displaystyle \\lim_{x\\to \\infty} \\frac{\\ln x}{x}$\n",
        "\n",
        "   - $\\displaystyle \\lim_{x\\to \\infty} \\frac{\\exp(x)}{x}$\n",
        "\n",
        "5. In physics, the position of a particle is given by $x(t) = 3t^2 - 6t + 1$. Find the velocity $V(t)=x'(t)$ and acceleration $a(t)=V'(t)=x''(t)$ of the particle at time $t = 2$."
      ],
      "metadata": {
        "id": "pjV0XepSbDYm"
      }
    },
    {
      "cell_type": "markdown",
      "source": [
        "1. Compute derivatives of functions:\n",
        "   * $y(x) = -3x+3$\n",
        "\n",
        "   $y'(x) = -3$\n",
        "   * $y(x) = \\pi x + \\sin(1)$\n",
        "\n",
        "  $y'(x) = \\pi$\n",
        "   * $y(x) = 4+\\sin(2)$\n",
        "\n",
        "  $y'(x) = 0$\n",
        "   * $y(x) = 2x^3 - 3x^2 + 8x - 9$\n",
        "\n",
        "  $y'(x) = 6x^2 - 6x + 8$\n",
        "   * $y(x) = 6 x^{1/3}$\n",
        "\n",
        "  $y'(x) = 2x^{-2/3}$\n",
        "   * $y(x) = \\sqrt{x}$\n",
        "\n",
        "   $y(x) = x^{1/2}$\n",
        "\n",
        "   $y(x) = \\frac{1}{2\\sqrt{x}}$\n",
        "   * $y(x) = \\cos(x) + \\sin(x)$\n",
        "\n",
        "   $y(x) = -\\sin(x) + \\cos(x)$   \n",
        "   * $y(x) = 2\\sin(x) \\cos(x)$\n",
        "\n",
        "   $y(x) = \\sin(2x)$\n",
        "\n",
        "   $y(x) = 2\\cos(2x)$      \n",
        "   * $y(x) = x\\sin(x)$\n",
        "\n",
        "   $y(x) = \\sin(x) + x\\cos(x)$\n",
        "   * $y(x) = (x+1)(x+1)$\n",
        "\n",
        "   $y(x) = x^2+2x+1$\n",
        "\n",
        "   $y'(x) = 2x+2$\n",
        "   * $y(x) = \\frac{x}{x+1}$\n",
        "  \n",
        "  $y(x) = \\frac{x+1 - x}{(x+1)^2}$\n",
        "\n",
        "  $y(x) = \\frac{1}{(x+1)^2}$\n",
        "   * $y(x) = (x+1)\\exp(x)$\n",
        "  \n",
        "  $y(x) = \\exp(x) + x\\exp(x)+\\exp(x))$\n",
        "\n",
        "  $y(x) = x\\exp(x) + 2\\exp(x))$\n",
        "   * $y(x) = \\sin(x^2)$\n",
        "\n",
        "  $y(x) = 2x\\cos(x^2)$\n",
        "   * $y(x) = \\exp(-2x)$\n",
        "\n",
        "  $y(x) = -2\\exp(-2x)$  \n",
        "   * $y(x) = \\frac{1}{\\sin(x+1)}$\n",
        "\n",
        "  $y(x) = \\frac{-\\cos(x+1)}{\\sin^2(x+1)}$\n",
        "   * $y(x) = \\sqrt{2x+1}$\n",
        "\n",
        "  $y(x) = \\frac{2}{2\\sqrt{2x+1}}$\n",
        "  $y(x) = \\frac{1}{\\sqrt{2x+1}}$"
      ],
      "metadata": {
        "id": "IvrHNiyPbG-L"
      }
    },
    {
      "cell_type": "markdown",
      "source": [
        "2. Prove:\n",
        "   - $\\frac{d}{dx} (\\ln(\\sin(x))) = \\cot(x)$\n",
        "\n",
        "   $\\frac{d}{dx} (\\ln(\\sin(x))) = \\frac{d}{dx}(\\sin(x)) * \\frac{1}{\\sin(x)} =$\n",
        "\n",
        "  $\\frac{\\cos(x)}{\\sin(x)} = \\cot(x)$"
      ],
      "metadata": {
        "id": "R1vPDk_Corkj"
      }
    },
    {
      "cell_type": "markdown",
      "source": [
        "3. For $f(x) = \\cos(x)$, verify that $f''(x) = -f(x)$.\n",
        "\n",
        "$f(x) = \\cos(x)$\n",
        "\n",
        "$f'(x) = -\\sin(x)$\n",
        "\\\n",
        "$f''(x) = -\\cos(x)$\n",
        "\n",
        "$-\\cos(x) = -(\\cos(x)) =>$\n",
        "$f''(x) = -f(x)$"
      ],
      "metadata": {
        "id": "x-UoLEZwtQVy"
      }
    },
    {
      "cell_type": "markdown",
      "source": [
        "4. Using de l'Hospital's Rule, find the improper limits:\n",
        "\n",
        "- $\\displaystyle \\lim_{x\\to 0} \\frac{\\sin{x}}{x} = \\frac{0}{0}$\n",
        "\n",
        "$(\\sin(x))' = cos(x)$\n",
        "\n",
        "$(x)' = 1$\n",
        "\n",
        "$\\displaystyle \\lim_{x\\to 0} \\frac{\\cos{x}}{1} = \\frac{1}{1} = 1$\n",
        "\n",
        "\n",
        "- $\\displaystyle \\lim_{x\\to \\infty} \\frac{\\ln x}{x} = \\frac{\\infty}{\\infty}$\n",
        "\n",
        "$\\displaystyle (\\ln(x))' = \\frac{1}{x}$\n",
        "\n",
        "$(x)' = 1$\n",
        "\n",
        "$\\displaystyle \\lim_{x\\to 0} \\frac{1}{x} = \\frac{1}{\\infty} = 0$\n",
        "\n",
        "- $\\displaystyle \\lim_{x\\to \\infty} \\frac{\\exp(x)}{x} = \\frac{\\infty}{\\infty}$\n",
        "\n",
        "$\\displaystyle (\\exp(x))' = \\exp(x)$\n",
        "\n",
        "$(x)' = 1$\n",
        "\n",
        "$\\displaystyle \\lim_{x\\to 0} \\frac{\\exp(x)}{ 1} = \\frac{\\infty}{1} = \\infty$"
      ],
      "metadata": {
        "id": "aIlAl4Yc2cxG"
      }
    },
    {
      "cell_type": "markdown",
      "source": [
        "5. In physics, the position of a particle is given by $x(t) = 3t^2 - 6t + 1$. Find the velocity $V(t)=x'(t)$ and acceleration $a(t)=V'(t)=x''(t)$ of the particle at time $t = 2$.\n",
        "\n",
        "$x(t) = 3t^2 - 6t + 1$\n",
        "\n",
        "\n",
        "$V(t)=x'(t)=6t - 6$\n",
        "\n",
        "$V(2)=6*2-6 = 6$\n",
        "\n",
        "\n",
        "$a(t)=V'(t)=x''(t) = 6$\n",
        "$a(2)=6$"
      ],
      "metadata": {
        "id": "ji7ewzKE9BGX"
      }
    }
  ]
}