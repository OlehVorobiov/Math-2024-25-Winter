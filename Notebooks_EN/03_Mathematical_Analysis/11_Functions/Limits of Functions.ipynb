{
  "nbformat": 4,
  "nbformat_minor": 0,
  "metadata": {
    "colab": {
      "provenance": [],
      "authorship_tag": "ABX9TyMKS0Jw/P45MBL7kEpOYSzu",
      "include_colab_link": true
    },
    "kernelspec": {
      "name": "python3",
      "display_name": "Python 3"
    },
    "language_info": {
      "name": "python"
    }
  },
  "cells": [
    {
      "cell_type": "markdown",
      "metadata": {
        "id": "view-in-github",
        "colab_type": "text"
      },
      "source": [
        "<a href=\"https://colab.research.google.com/github/OlehVorobiov/Math-2024-25-Winter/blob/main/Notebooks_EN/03_Mathematical_Analysis/11_Functions/Limits%20of%20Functions.ipynb\" target=\"_parent\"><img src=\"https://colab.research.google.com/assets/colab-badge.svg\" alt=\"Open In Colab\"/></a>"
      ]
    },
    {
      "cell_type": "markdown",
      "source": [
        "## 20. Limits of Real Functions\n",
        "\n",
        "1. Compute:\n",
        "   - $\\displaystyle\\lim_{x \\to \\infty} \\frac{x^3 + 2x^2}{x^4 - 3x^3}$\n",
        "\n",
        "2. Find:\n",
        "   \n",
        "   - $\\displaystyle \\lim_{x \\to 0} \\frac{\\sin(3x)}{2x+1}$.\n",
        "\n",
        "4. Find the asymptotes of the function:\n",
        "  \n",
        "   - $f(x) = \\frac{x^2 - 1}{x^2 + 1}$\n",
        "   - $g(x) = \\frac{\\sin(x)}{x^2+1}$"
      ],
      "metadata": {
        "id": "mswTJ0LaWRZQ"
      }
    },
    {
      "cell_type": "markdown",
      "source": [
        "1. Compute:\n",
        "   - $\\displaystyle\\lim_{x \\to \\infty} \\frac{x^3 + 2x^2}{x^4 - 3x^3}$\n",
        "\n",
        "\\begin{aligned}\n",
        "\\lim_{x \\to \\infty} \\frac{x^3 + 2x^2}{x^4 - 3x^3}\n",
        "&= \\lim_{x \\to \\infty} \\frac{\\frac{x^3}{x^4} + \\frac{2x^2}{x^4}}{\\frac{x^4}{x^4} - \\frac{3x^3}{x^4}}\n",
        "\\quad \\text{(Dividing numerator and denominator by } x^4\\text{)} \\\\[10pt]\n",
        "&= \\lim_{x \\to \\infty} \\frac{\\frac{1}{x} + \\frac{2}{x^2}}{1 - \\frac{3}{x}}\\\\\n",
        "&= \\lim_{x \\to \\infty} \\frac{0 + 0}{1 - 0}\\\\\n",
        "&= \\lim_{x \\to \\infty} \\frac{0}{1}\\\\\n",
        "&= 0\\\\\n",
        "\\end{aligned}"
      ],
      "metadata": {
        "id": "ntMwnm42Wpwv"
      }
    },
    {
      "cell_type": "markdown",
      "source": [
        "2. Find:\n",
        "   \n",
        "   - $\\displaystyle \\lim_{x \\to 0} \\frac{\\sin(3x)}{2x+1}$.\n",
        "\n",
        "\\begin{aligned}\n",
        "\\lim_{x \\to 0} \\frac{\\sin(3x)}{2x+1}\n",
        "&= \\lim_{x \\to 0} \\frac{\\sin(3*0)}{2*0+1}\\\\\n",
        "&= \\lim_{x \\to 0} \\frac{0}{1}\\\\\n",
        "&= \\lim_{x \\to 0} 0\n",
        "=0\\\\\n",
        "\\end{aligned}"
      ],
      "metadata": {
        "id": "F0K6baADZ4ru"
      }
    },
    {
      "cell_type": "markdown",
      "source": [
        "3. Find the asymptotes of the function:\n",
        "  \n",
        "- $f(x) = \\frac{x^2 - 1}{x^2 + 1}$\n",
        "\n",
        "Finding horizontal asymptote:\n",
        "\n",
        "\\begin{aligned}\n",
        "\\lim_{x \\to \\infty} \\frac{x^2 - 1}{x^2 + 1}\n",
        "&= \\lim_{x \\to \\infty} \\frac{\\frac{x^2}{x^2} - \\frac{1}{x^2}}{\\frac{x^2}{x^2} + \\frac{1}{x^2}}\n",
        "\\quad \\text{(Dividing numerator and denominator by } x^2\\text{)} \\\\[10pt]\n",
        "&= \\lim_{x \\to \\infty} \\frac{1 - 0}{1 + 0}\\\\\n",
        "&= \\lim_{x \\to \\infty} 1\\\\\n",
        "&= 1\\\\\n",
        "\\end{aligned}\n",
        "\n",
        "$y = 1$\n",
        "\n",
        "Finding vertical asymptote:\\\n",
        "$x^2 + 1 = 0$\\\n",
        "$=>$ No solution $=>$ No vertical asymptote \\\n",
        "\n",
        "- $g(x) = \\frac{\\sin(x)}{x^2+1}$\n",
        "\n",
        "Finding horizontal asymptote:\n",
        "\n",
        "\\begin{aligned}\n",
        "\\lim_{x \\to \\infty} \\frac{\\sin(x)}{x^2+1}\n",
        "&= 0\n",
        "\\quad \\text{(The value of the numenator is between $-1$ and $1$, while the value of the denomenator approaches zero)} \\\\[10pt]\n",
        "\\end{aligned}\n",
        "\n",
        "$y = 0$\n",
        "\n",
        "Finding vertical asymptote:\\\n",
        "$x^2 + 1 = 0$\\\n",
        "$=>$ No solution $=>$ No vertical asymptote \\"
      ],
      "metadata": {
        "id": "sqEM6rHPa8Ra"
      }
    }
  ]
}