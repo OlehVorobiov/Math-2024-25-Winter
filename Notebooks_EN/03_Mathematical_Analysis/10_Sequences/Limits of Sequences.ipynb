{
  "nbformat": 4,
  "nbformat_minor": 0,
  "metadata": {
    "colab": {
      "provenance": [],
      "authorship_tag": "ABX9TyOXMMGWrZng4Pyv+NjPFv6Y",
      "include_colab_link": true
    },
    "kernelspec": {
      "name": "python3",
      "display_name": "Python 3"
    },
    "language_info": {
      "name": "python"
    }
  },
  "cells": [
    {
      "cell_type": "markdown",
      "metadata": {
        "id": "view-in-github",
        "colab_type": "text"
      },
      "source": [
        "<a href=\"https://colab.research.google.com/github/OlehVorobiov/Math-2024-25-Winter/blob/main/Notebooks_EN/03_Mathematical_Analysis/10_Sequences/Limits%20of%20Sequences.ipynb\" target=\"_parent\"><img src=\"https://colab.research.google.com/assets/colab-badge.svg\" alt=\"Open In Colab\"/></a>"
      ]
    },
    {
      "cell_type": "markdown",
      "source": [
        "## 19. Limits of Sequences\n",
        "\n",
        "1. Calculate:\n",
        "   - $\\displaystyle \\lim_{n \\to \\infty} \\frac{n^2 + 3n}{2 n^2 - 2n}$\n",
        "\n",
        "   - $\\displaystyle \\lim_{n \\to \\infty} \\frac{(2n+3)^3}{n^3-1}$\n",
        "\n",
        "2. Prove using the squeeze theorem:\n",
        "   - $\\displaystyle\\lim_{n \\to \\infty} \\frac{\\sin(n)}{n}$\n",
        "\n",
        "4. Find the limit of the sequence:\n",
        "   - $a_n = (1+\\frac{1}{n})^n$"
      ],
      "metadata": {
        "id": "sSvmboT5l7-_"
      }
    },
    {
      "cell_type": "markdown",
      "source": [
        "1. Calculate:\n",
        "\n",
        "\n",
        "\\begin{aligned}\n",
        "\\lim_{n \\to \\infty} \\frac{n^2 + 3n}{2n^2 - 2n}\n",
        "&= \\lim_{n \\to \\infty} \\frac{\\frac{n^2}{n^2} + \\frac{3n}{n^2}}{\\frac{2n^2}{n^2} - \\frac{2n}{n^2}}\n",
        "\\quad \\text{(Dividing numerator and denominator by } n^2\\text{)} \\\\[10pt]\n",
        "&= \\lim_{n \\to \\infty} \\frac{1 + \\frac{3}{n}}{2 - \\frac{2}{n}} \\\\[10pt]\n",
        "&= \\frac{1 + 0}{2 - 0} \\\\[10pt]\n",
        "&= \\frac{1}{2}.\n",
        "\\end{aligned}\n",
        "\n",
        "\n",
        "\\begin{aligned}\n",
        "\\\\lim_{n \\to \\infty} \\frac{(2n+3)^3}{n^3-1}\n",
        "&= \\lim_{n \\to \\infty} \\frac{8n^3 + 36n^2 + 54n + 27}{n^3 - 1}\n",
        "\\quad \\text{(Expanding }\\text{)} \\\\[10pt]\n",
        "&= \\lim_{n \\to \\infty} \\frac{8 + \\frac{36}{n} + \\frac{54}{n^2} + \\frac{27}{n^3}}{1 - \\frac{1}{n^3}}\n",
        "\\quad \\text{(Dividing numerator and denominator by } n^3\\text{)} \\\\[10pt]\n",
        "&= \\lim_{n \\to \\infty} \\frac{8 + 0}{1 - 0} \\\\[10pt]\n",
        "&= 8.\n",
        "\\end{aligned}"
      ],
      "metadata": {
        "id": "oBtQbl1ywxR4"
      }
    },
    {
      "cell_type": "markdown",
      "source": [
        "2. Prove using the squeeze theorem:\n",
        "   $\\displaystyle\\lim_{n \\to \\infty} \\frac{\\sin(n)}{n}$\n",
        "   \n",
        "\n",
        "   \\begin{aligned}\n",
        "\\\\lim_{n \\to \\infty} \\frac{\\sin(n)}{n}\n",
        "\\\\\\text{Using the squeeze theorem:} \\quad&-1<sin(n)<1\n",
        "\\\\=& -\\frac{1}{n}<\\frac{sin(n)}{n}<\\frac{1}{n}\n",
        "\\\\&lim_{n \\to \\infty}\\frac{1}{n} = 0\n",
        "\\\\&lim_{n \\to \\infty}-\\frac{1}{n} = 0\n",
        "\\\\=>& lim_{n \\to \\infty} \\frac{\\sin(n)}{n} = 0\n",
        "\\end{aligned}"
      ],
      "metadata": {
        "id": "xj6F2UvYBj2l"
      }
    },
    {
      "cell_type": "markdown",
      "source": [
        "3. Find the limit of the sequence:\n",
        "   - $a_n = (1+\\frac{1}{n})^n$\n",
        "\n",
        "\n",
        "\\begin{aligned}\n",
        "\\\\\\text{The sequence:} \\quad(1+\\frac{1}{n})^n \\quad \\text{ is a definition of a mathematical constant} \\quad&e:\n",
        "\\\\&e = lim_{n \\to \\infty} (1+\\frac{1}{n})^n\n",
        "\\\\=>lim_{n \\to \\infty} (1+\\frac{1}{n})^n = e\n",
        "\\end{aligned}\n",
        "The limit of the sequence $a_n$ is equal $e$"
      ],
      "metadata": {
        "id": "YBoGUFXGFZj_"
      }
    }
  ]
}