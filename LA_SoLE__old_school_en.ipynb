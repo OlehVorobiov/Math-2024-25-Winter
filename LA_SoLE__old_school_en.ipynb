{
  "cells": [
    {
      "cell_type": "markdown",
      "metadata": {
        "id": "E24CwLvYMidR"
      },
      "source": [
        "# School Method for Solving Systems of Linear Equations"
      ]
    },
    {
      "cell_type": "code",
      "execution_count": 4,
      "metadata": {
        "id": "4o5EhWMwMidS"
      },
      "outputs": [],
      "source": [
        "import sympy as sp\n",
        "from sympy import symbols, Eq, expand, solve\n",
        "\n",
        "class EnhancedEq(Eq):\n",
        "    def __add__(self, other):\n",
        "        return EnhancedEq(self.lhs + other.lhs, self.rhs + other.rhs)\n",
        "\n",
        "    def __sub__(self, other):\n",
        "        return EnhancedEq(self.lhs - other.lhs, self.rhs - other.rhs)\n",
        "\n",
        "    def __mul__(self, scalar):\n",
        "        return EnhancedEq(scalar * self.lhs, scalar * self.rhs)\n",
        "\n",
        "    def __rmul__(self, scalar):\n",
        "        return self.__mul__(scalar)\n",
        "\n",
        "    def simplify(self):\n",
        "        return EnhancedEq(expand(self.lhs), expand(self.rhs))\n",
        "\n",
        "    def substitute(self, *args, **kwargs):\n",
        "        return EnhancedEq(self.lhs.subs(*args, **kwargs), self.rhs.subs(*args, **kwargs))\n",
        "\n",
        "    def solve_for(self, symbol):\n",
        "        return solve(self, symbol)\n",
        "\n",
        "# Example usage:\n",
        "x, y = symbols('x y')\n",
        "\n",
        "# Define equations\n",
        "eq1 = EnhancedEq(2*x + y, 5)\n",
        "eq2 = EnhancedEq(x - y, 1)"
      ]
    },
    {
      "cell_type": "code",
      "execution_count": 5,
      "metadata": {
        "id": "7Yu4mf-kMidT",
        "outputId": "4dfc6a84-bb61-4476-c6c2-0f6f7477f67e",
        "colab": {
          "base_uri": "https://localhost:8080/",
          "height": 56
        }
      },
      "outputs": [
        {
          "output_type": "stream",
          "name": "stdout",
          "text": [
            "First equation:\n"
          ]
        },
        {
          "output_type": "execute_result",
          "data": {
            "text/plain": [
              "Eq(2*x + y, 5)"
            ],
            "text/latex": "$\\displaystyle 2 x + y = 5$"
          },
          "metadata": {},
          "execution_count": 5
        }
      ],
      "source": [
        "print(\"First equation:\")\n",
        "eq1"
      ]
    },
    {
      "cell_type": "code",
      "execution_count": 8,
      "metadata": {
        "id": "Ifp7G86QMidU",
        "outputId": "6e8888d1-d150-4615-977a-58104e1ad6fe",
        "colab": {
          "base_uri": "https://localhost:8080/",
          "height": 56
        }
      },
      "outputs": [
        {
          "output_type": "stream",
          "name": "stdout",
          "text": [
            "Second equation:\n"
          ]
        },
        {
          "output_type": "execute_result",
          "data": {
            "text/plain": [
              "Eq(x - y, 1)"
            ],
            "text/latex": "$\\displaystyle x - y = 1$"
          },
          "metadata": {},
          "execution_count": 8
        }
      ],
      "source": [
        "print(\"Second equation:\")\n",
        "eq2"
      ]
    },
    {
      "cell_type": "code",
      "execution_count": 9,
      "metadata": {
        "id": "pp2dHuUkMidU",
        "outputId": "cd31e038-7f52-4817-e186-be40efe2e0ca",
        "colab": {
          "base_uri": "https://localhost:8080/",
          "height": 38
        }
      },
      "outputs": [
        {
          "output_type": "execute_result",
          "data": {
            "text/plain": [
              "Eq(3*x, 6)"
            ],
            "text/latex": "$\\displaystyle 3 x = 6$"
          },
          "metadata": {},
          "execution_count": 9
        }
      ],
      "source": [
        "# Add the equations\n",
        "eq3 = eq1 + eq2\n",
        "eq3"
      ]
    },
    {
      "cell_type": "code",
      "execution_count": 10,
      "metadata": {
        "id": "_J4k7lVQMidV",
        "outputId": "e1e4086e-63eb-417d-98c0-0103b43e09c3",
        "colab": {
          "base_uri": "https://localhost:8080/",
          "height": 37
        }
      },
      "outputs": [
        {
          "output_type": "execute_result",
          "data": {
            "text/plain": [
              "2"
            ],
            "text/latex": "$\\displaystyle 2$"
          },
          "metadata": {},
          "execution_count": 10
        }
      ],
      "source": [
        "# We have an equation with one unknown, so we can solve it\n",
        "sol_x = eq3.solve_for(x)[0]\n",
        "sol_x"
      ]
    },
    {
      "cell_type": "code",
      "execution_count": 11,
      "metadata": {
        "id": "Lle3aW6QMidV",
        "outputId": "9e5d2483-dd23-42f4-ba9c-86706dfd33ad",
        "colab": {
          "base_uri": "https://localhost:8080/",
          "height": 38
        }
      },
      "outputs": [
        {
          "output_type": "execute_result",
          "data": {
            "text/plain": [
              "Eq(2 - y, 1)"
            ],
            "text/latex": "$\\displaystyle 2 - y = 1$"
          },
          "metadata": {},
          "execution_count": 11
        }
      ],
      "source": [
        "# Substitute the solution into equation 2\n",
        "eq2 = eq2.substitute(x, sol_x)\n",
        "eq2"
      ]
    },
    {
      "cell_type": "code",
      "execution_count": 12,
      "metadata": {
        "id": "n9bFNM5BMidV",
        "outputId": "bd4eadfa-2b73-4e73-cc87-93ba8daba70f",
        "colab": {
          "base_uri": "https://localhost:8080/",
          "height": 37
        }
      },
      "outputs": [
        {
          "output_type": "execute_result",
          "data": {
            "text/plain": [
              "1"
            ],
            "text/latex": "$\\displaystyle 1$"
          },
          "metadata": {},
          "execution_count": 12
        }
      ],
      "source": [
        "# We get an equation with one unknown, so we can solve it\n",
        "eq2.solve_for(y)[0]"
      ]
    },
    {
      "cell_type": "code",
      "execution_count": 13,
      "metadata": {
        "id": "8BOXWmQqMidV",
        "outputId": "ddf1e2f3-a319-41e5-feca-109731f78f41",
        "colab": {
          "base_uri": "https://localhost:8080/"
        }
      },
      "outputs": [
        {
          "output_type": "execute_result",
          "data": {
            "text/plain": [
              "{x: 2, y: 1}"
            ]
          },
          "metadata": {},
          "execution_count": 13
        }
      ],
      "source": [
        "# Thus x=2, y=1\n",
        "# Verify with sympy\n",
        "sp.solve([eq1, eq2])"
      ]
    },
    {
      "cell_type": "markdown",
      "metadata": {
        "id": "WY4ON4sDMidV"
      },
      "source": [
        "---\n",
        "\n",
        "### Exercises for Students\n",
        "\n",
        "Solve the following systems of equations similarly to the example above:\n",
        "\n",
        "* $3x-2y=5, \\quad 2x+3y=7$,\n",
        "* $2x-3y=10, \\quad 4x+5y=20$,\n",
        "* $2x - y + z = 3, \\quad x + 2y - z = 1, \\quad 3x - y + 2z = 11$.\n",
        "* $2x-3y+4z+2t=2, \\quad 3x+2y-5z+3t=3, \\quad 4x-3y+2z-5t=4, \\quad 5x+4y-3z+2t=5$."
      ]
    },
    {
      "cell_type": "code",
      "source": [
        "x, y = symbols('x y')\n",
        "\n",
        "# Define equations\n",
        "eq1 = EnhancedEq(3*x - 2*y, 5)\n",
        "eq2 = EnhancedEq(2*x + 3*y, 7)\n",
        "\n",
        "print(\"First equation:\")\n",
        "print(eq1)\n",
        "print(\"Second equation:\")\n",
        "print(eq2)\n",
        "\n",
        "# Add the equations\n",
        "eq3 = eq1*3 + eq2*2\n",
        "eq3\n",
        "print(eq3)\n",
        "\n",
        "# We have an equation with one unknown, so we can solve it\n",
        "sol_x = eq3.solve_for(x)[0]\n",
        "print(sol_x)\n",
        "\n",
        "# Substitute the solution into equation 2\n",
        "eq2 = eq2.substitute(x, sol_x)\n",
        "eq2\n",
        "\n",
        "# We get an equation with one unknown, so we can solve it\n",
        "print(eq2.solve_for(y)[0])\n",
        "\n",
        "\n",
        "# Verify with sympy\n",
        "sp.solve([eq1, eq2])"
      ],
      "metadata": {
        "id": "sEKWpBiKM6zv",
        "outputId": "f7f5380c-3a29-4394-df22-f9ce4c8ade8c",
        "colab": {
          "base_uri": "https://localhost:8080/"
        }
      },
      "execution_count": 27,
      "outputs": [
        {
          "output_type": "stream",
          "name": "stdout",
          "text": [
            "First equation:\n",
            "Eq(3*x - 2*y, 5)\n",
            "Second equation:\n",
            "Eq(2*x + 3*y, 7)\n",
            "Eq(13*x, 29)\n",
            "29/13\n",
            "11/13\n"
          ]
        },
        {
          "output_type": "execute_result",
          "data": {
            "text/plain": [
              "{x: 29/13, y: 11/13}"
            ]
          },
          "metadata": {},
          "execution_count": 27
        }
      ]
    },
    {
      "cell_type": "code",
      "source": [
        "x, y = symbols('x y')\n",
        "\n",
        "# Define equations\n",
        "eq1 = EnhancedEq(2*x - 3*y, 10)\n",
        "eq2 = EnhancedEq(4*x + 5*y, 20)\n",
        "\n",
        "print(\"First equation:\")\n",
        "print(eq1)\n",
        "print(\"Second equation:\")\n",
        "print(eq2)\n",
        "\n",
        "# Add the equations\n",
        "eq3 = eq1*5 + eq2*3\n",
        "eq3\n",
        "print(eq3)\n",
        "\n",
        "# We have an equation with one unknown, so we can solve it\n",
        "sol_x = eq3.solve_for(x)[0]\n",
        "print(sol_x)\n",
        "\n",
        "# Substitute the solution into equation 2\n",
        "eq2 = eq2.substitute(x, sol_x)\n",
        "eq2\n",
        "\n",
        "# We get an equation with one unknown, so we can solve it\n",
        "print(eq2.solve_for(y)[0])\n",
        "\n",
        "\n",
        "# Verify with sympy\n",
        "sp.solve([eq1, eq2])"
      ],
      "metadata": {
        "id": "nURP760MQKKf",
        "outputId": "e60951b2-4f2e-48dc-d2a4-dd40f73b7c86",
        "colab": {
          "base_uri": "https://localhost:8080/"
        }
      },
      "execution_count": 29,
      "outputs": [
        {
          "output_type": "stream",
          "name": "stdout",
          "text": [
            "First equation:\n",
            "Eq(2*x - 3*y, 10)\n",
            "Second equation:\n",
            "Eq(4*x + 5*y, 20)\n",
            "Eq(22*x, 110)\n",
            "5\n",
            "0\n"
          ]
        },
        {
          "output_type": "execute_result",
          "data": {
            "text/plain": [
              "{x: 5, y: 0}"
            ]
          },
          "metadata": {},
          "execution_count": 29
        }
      ]
    },
    {
      "cell_type": "code",
      "source": [
        "x, y, z = symbols('x y z')\n",
        "\n",
        "# Define equations\n",
        "eq1 = EnhancedEq(2*x - y + z, 3)\n",
        "eq2 = EnhancedEq(x + 2*y - z, 1)\n",
        "eq3 = EnhancedEq(3*x - y + 2*z, 11)\n",
        "\n",
        "print(\"First equation:\")\n",
        "print(eq1)\n",
        "print(\"Second equation:\")\n",
        "print(eq2)\n",
        "print(\"Third equation:\")\n",
        "print(eq3)\n",
        "\n",
        "\n",
        "eq4 = eq1 + eq2\n",
        "eq4\n",
        "print(eq4)\n",
        "\n",
        "sol_x = eq4.solve_for(x)[0]\n",
        "print(sol_x)\n",
        "\n",
        "eq3 = eq3.substitute(x, sol_x)\n",
        "print(eq3)\n",
        "sol_y = eq3.solve_for(y)[0]\n",
        "\n",
        "eq2 = eq2.substitute(x, sol_x)\n",
        "eq2 = eq2.substitute(y, sol_y)\n",
        "sol_z = eq2.solve_for(z)[0]\n",
        "eq3 = eq3.substitute(z, sol_z)\n",
        "sol_y = eq3.solve_for(y)[0]\n",
        "eq4 = eq4.substitute(y, sol_y)\n",
        "sol_x = eq4.solve_for(x)[0]\n",
        "print(sol_x, sol_y, sol_z)\n",
        "\n",
        "# Verify with sympy\n",
        "sp.solve([eq1, eq2, eq3])"
      ],
      "metadata": {
        "id": "DYn1nucGQuDk",
        "outputId": "2d8b7dc0-7dc2-403b-c7ad-cdea7440e297",
        "colab": {
          "base_uri": "https://localhost:8080/"
        }
      },
      "execution_count": 52,
      "outputs": [
        {
          "output_type": "stream",
          "name": "stdout",
          "text": [
            "First equation:\n",
            "Eq(2*x - y + z, 3)\n",
            "Second equation:\n",
            "Eq(x + 2*y - z, 1)\n",
            "Third equation:\n",
            "Eq(3*x - y + 2*z, 11)\n",
            "Eq(3*x + y, 4)\n",
            "4/3 - y/3\n",
            "Eq(-2*y + 2*z + 4, 11)\n",
            "-1/4 19/4 33/4\n"
          ]
        },
        {
          "output_type": "execute_result",
          "data": {
            "text/plain": [
              "{x: -1/4, y: 19/4, z: 33/4}"
            ]
          },
          "metadata": {},
          "execution_count": 52
        }
      ]
    },
    {
      "cell_type": "code",
      "source": [
        "x, y, z, t = symbols('x y z t')\n",
        "\n",
        "# Define equations\n",
        "eq1 = EnhancedEq(2*x - 3*y + 4*z + 2*t, 2)\n",
        "eq2 = EnhancedEq(3*x + 2*y - 5*z + 3*t, 3)\n",
        "eq3 = EnhancedEq(4*x - 3*y + 2*z - 5*t, 4)\n",
        "eq4 = EnhancedEq(5*x - 4*y - 3*z + 2*t, 5)\n",
        "\n",
        "print(\"First equation:\")\n",
        "print(eq1)\n",
        "print(\"Second equation:\")\n",
        "print(eq2)\n",
        "print(\"Third equation:\")\n",
        "print(eq3)\n",
        "print(\"Fourth equation:\")\n",
        "print(eq4)\n",
        "\n",
        "\n",
        "eq5 = eq1 - eq4\n",
        "print(eq5)\n",
        "\n",
        "sol_x = eq4.solve_for(x)[0]\n",
        "print(sol_x)\n",
        "\n",
        "eq3 = eq3.substitute(x, sol_x)\n",
        "print(eq3)\n",
        "sol_y = eq3.solve_for(y)[0]\n",
        "\n",
        "eq2 = eq2.substitute(x, sol_x)\n",
        "eq2 = eq2.substitute(y, sol_y)\n",
        "sol_z = eq2.solve_for(z)[0]\n",
        "\n",
        "eq1 = eq1.substitute(x, sol_x)\n",
        "eq1 = eq1.substitute(y, sol_y)\n",
        "eq1 = eq1.substitute(z, sol_z)\n",
        "sol_t = eq1.solve_for(t)[0]\n",
        "\n",
        "eq2 = eq2.substitute(t, sol_t)\n",
        "sol_z = eq2.solve_for(z)[0]\n",
        "\n",
        "eq3 = eq3.substitute(z, sol_z)\n",
        "eq3 = eq3.substitute(t, sol_t)\n",
        "sol_y = eq3.solve_for(y)[0]\n",
        "\n",
        "eq5 = eq5.substitute(y, sol_y)\n",
        "eq5 = eq5.substitute(z, sol_z)\n",
        "sol_x = eq5.solve_for(x)[0]\n",
        "print(sol_x, sol_y, sol_z, sol_t)\n",
        "\n",
        "# Verify with sympy\n",
        "sp.solve([eq1, eq2, eq3, eq4])"
      ],
      "metadata": {
        "id": "2DryJeFlU1iQ",
        "outputId": "273c603c-2766-4140-e8ec-aca4181998ca",
        "colab": {
          "base_uri": "https://localhost:8080/"
        }
      },
      "execution_count": 60,
      "outputs": [
        {
          "output_type": "stream",
          "name": "stdout",
          "text": [
            "First equation:\n",
            "Eq(2*t + 2*x - 3*y + 4*z, 2)\n",
            "Second equation:\n",
            "Eq(3*t + 3*x + 2*y - 5*z, 3)\n",
            "Third equation:\n",
            "Eq(-5*t + 4*x - 3*y + 2*z, 4)\n",
            "Fourth equation:\n",
            "Eq(2*t + 5*x - 4*y - 3*z, 5)\n",
            "Eq(-3*x + y + 7*z, -3)\n",
            "-2*t/5 + 4*y/5 + 3*z/5 + 1\n",
            "Eq(-33*t/5 + y/5 + 22*z/5 + 4, 4)\n",
            "=====\n",
            "Eq(-33*t/5 + y/5 + 22*z/5 + 4, 4)\n",
            "1 0 0 0\n"
          ]
        },
        {
          "output_type": "execute_result",
          "data": {
            "text/plain": [
              "{t: 0, x: 1, y: 0, z: 0}"
            ]
          },
          "metadata": {},
          "execution_count": 60
        }
      ]
    }
  ],
  "metadata": {
    "kernelspec": {
      "display_name": "Python 3",
      "language": "python",
      "name": "python3"
    },
    "language_info": {
      "codemirror_mode": {
        "name": "ipython",
        "version": 3
      },
      "file_extension": ".py",
      "mimetype": "text/x-python",
      "name": "python",
      "nbconvert_exporter": "python",
      "pygments_lexer": "ipython3",
      "version": "3.11.9"
    },
    "colab": {
      "provenance": []
    }
  },
  "nbformat": 4,
  "nbformat_minor": 0
}