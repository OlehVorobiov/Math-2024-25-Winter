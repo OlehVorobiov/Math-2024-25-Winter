{
  "cells": [
    {
      "cell_type": "markdown",
      "metadata": {
        "id": "oayzScX-pWsw"
      },
      "source": [
        "# Matrix Inversion using Gauss elimination method"
      ]
    },
    {
      "cell_type": "code",
      "execution_count": 2,
      "metadata": {
        "id": "KSNsuR76pWsx"
      },
      "outputs": [],
      "source": [
        "from sympy import Matrix, Rational, latex\n",
        "from IPython.display import display, Markdown, Math, HTML\n",
        "\n",
        "class InvertibleMatrix:\n",
        "    def __init__(self, matrix):\n",
        "        \"\"\"\n",
        "        Initializes a matrix to be inverted using the Gauss-Jordan method.\n",
        "\n",
        "        Parameters:\n",
        "        - matrix: The square matrix to be inverted.\n",
        "        \"\"\"\n",
        "        # Convert all entries to Rational numbers\n",
        "        self.matrix = Matrix(matrix).applyfunc(Rational)\n",
        "        self.operations = []\n",
        "\n",
        "        # Check if the matrix is square\n",
        "        if self.matrix.rows != self.matrix.cols:\n",
        "            raise ValueError(\"The matrix must be square.\")\n",
        "\n",
        "        # Create the augmented matrix with the identity matrix (with Rational entries)\n",
        "        identity = Matrix.eye(self.matrix.rows).applyfunc(Rational)\n",
        "        self.aug_matrix = self.matrix.row_join(identity)\n",
        "\n",
        "        display(Markdown(\"**Initial Matrix (Starting matrix):**\"))\n",
        "        self.display_matrix()\n",
        "\n",
        "    def __repr__(self):\n",
        "        return repr(self.aug_matrix)\n",
        "\n",
        "    def __str__(self):\n",
        "        return str(self.aug_matrix)\n",
        "\n",
        "    def _repr_latex_(self):\n",
        "        return self.aug_matrix._repr_latex_()\n",
        "\n",
        "    def _validate_row_number(self, row):\n",
        "        if not isinstance(row, int):\n",
        "            raise TypeError(\"Row number must be an integer.\")\n",
        "        if row < 1 or row > self.aug_matrix.rows:\n",
        "            raise IndexError(f\"Row number must be in the range from 1 to {self.aug_matrix.rows}.\")\n",
        "        return row - 1\n",
        "\n",
        "    def add_row(self, target_row, source_row, coefficient):\n",
        "        target_idx = self._validate_row_number(target_row)\n",
        "        source_idx = self._validate_row_number(source_row)\n",
        "        coefficient = Rational(coefficient)\n",
        "\n",
        "        self.aug_matrix.row_op(target_idx, lambda v, j: v + coefficient * self.aug_matrix[source_idx, j])\n",
        "\n",
        "        operation_str = f\"r{target_row} = r{target_row} + {coefficient}*r{source_row}\"\n",
        "        self.operations.append(operation_str)\n",
        "        display(Markdown(f\"**Operation:** {operation_str}\"))\n",
        "        self.display_matrix()\n",
        "\n",
        "    def multiply_row(self, row, coefficient):\n",
        "        row_idx = self._validate_row_number(row)\n",
        "        coefficient = Rational(coefficient)\n",
        "\n",
        "        self.aug_matrix.row_op(row_idx, lambda v, _: coefficient * v)\n",
        "\n",
        "        operation_str = f\"r{row} = {coefficient}*r{row}\"\n",
        "        self.operations.append(operation_str)\n",
        "        display(Markdown(f\"**Operation:** {operation_str}\"))\n",
        "        self.display_matrix()\n",
        "\n",
        "    def swap_rows(self, row1, row2):\n",
        "        row1_idx = self._validate_row_number(row1)\n",
        "        row2_idx = self._validate_row_number(row2)\n",
        "\n",
        "        self.aug_matrix.row_swap(row1_idx, row2_idx)\n",
        "\n",
        "        operation_str = f\"Swap r{row1} <-> r{row2}\"\n",
        "        self.operations.append(operation_str)\n",
        "        display(Markdown(f\"**Operation:** {operation_str}\"))\n",
        "        self.display_matrix()\n",
        "\n",
        "    def display_matrix(self):\n",
        "        \"\"\"Displays the left and right matrix side by side in LaTeX format.\"\"\"\n",
        "        left_matrix = self.aug_matrix[:, :self.matrix.cols]\n",
        "        right_matrix = self.aug_matrix[:, self.matrix.cols:]\n",
        "\n",
        "        # Generate LaTeX code for both matrices\n",
        "        left_latex = latex(left_matrix)\n",
        "        right_latex = latex(right_matrix)\n",
        "\n",
        "        # Combine both matrices into a single display output\n",
        "        combined_latex = r\"\"\"\n",
        "        %s\n",
        "        \\quad\n",
        "        %s\n",
        "        \"\"\" % (left_latex, right_latex)\n",
        "\n",
        "        display(Math(combined_latex))\n",
        "\n",
        "    def print_operations(self):\n",
        "        display(Markdown(\"**Performed Operations:**\"))\n",
        "        for op in self.operations:\n",
        "            print(op)\n",
        "\n",
        "    def get_inverse(self):\n",
        "        \"\"\"Returns the inverse of the matrix after performing Gauss-Jordan elimination.\"\"\"\n",
        "        # Check if the left part of the augmented matrix is the identity matrix\n",
        "        left_matrix = self.aug_matrix[:, :self.matrix.cols]\n",
        "        if not left_matrix == Matrix.eye(self.matrix.rows):\n",
        "            raise ValueError(\"The matrix has not been reduced to the identity matrix. Continue the operations.\")\n",
        "        # Return the right part of the augmented matrix as the inverse\n",
        "        inverse_matrix = self.aug_matrix[:, self.matrix.cols:]\n",
        "        display(Markdown(\"**Inverse Matrix:**\"))\n",
        "        display(Math(latex(inverse_matrix)))\n",
        "        return inverse_matrix"
      ]
    },
    {
      "cell_type": "markdown",
      "metadata": {
        "id": "oW_Q7wRXpWsz"
      },
      "source": [
        "**Example 1:**"
      ]
    },
    {
      "cell_type": "code",
      "execution_count": 76,
      "metadata": {
        "id": "IFlbak6qpWs0",
        "outputId": "b69f1a06-0998-4e58-b1a6-2de25b25f5b3",
        "colab": {
          "base_uri": "https://localhost:8080/",
          "height": 87
        }
      },
      "outputs": [
        {
          "output_type": "display_data",
          "data": {
            "text/plain": [
              "<IPython.core.display.Markdown object>"
            ],
            "text/markdown": "**Initial Matrix (Starting matrix):**"
          },
          "metadata": {}
        },
        {
          "output_type": "display_data",
          "data": {
            "text/plain": [
              "<IPython.core.display.Math object>"
            ],
            "text/latex": "$\\displaystyle \n        \\left[\\begin{matrix}2 & 1\\\\5 & 3\\end{matrix}\\right] \n        \\quad\n        \\left[\\begin{matrix}1 & 0\\\\0 & 1\\end{matrix}\\right]\n        $"
          },
          "metadata": {}
        }
      ],
      "source": [
        "# Create an instance of the class with a matrix to be inverted\n",
        "initial_matrix = [[2, 1], [5, 3]] # 2x2 matrix\n",
        "m = InvertibleMatrix(initial_matrix) # Create an instance of the class"
      ]
    },
    {
      "cell_type": "code",
      "execution_count": 77,
      "metadata": {
        "id": "rwHTEJfKpWs1",
        "outputId": "4b95fe9d-70fd-4a35-8383-d47bb9d22def",
        "colab": {
          "base_uri": "https://localhost:8080/",
          "height": 75
        }
      },
      "outputs": [
        {
          "output_type": "stream",
          "name": "stdout",
          "text": [
            "The inverse matrix is:\n"
          ]
        },
        {
          "output_type": "execute_result",
          "data": {
            "text/plain": [
              "Matrix([\n",
              "[ 3, -1],\n",
              "[-5,  2]])"
            ],
            "text/latex": "$\\displaystyle \\left[\\begin{matrix}3 & -1\\\\-5 & 2\\end{matrix}\\right]$"
          },
          "metadata": {},
          "execution_count": 77
        }
      ],
      "source": [
        "import sympy as sp # import the sympy library\n",
        "a = sp.Matrix(initial_matrix) # create the initial matrix\n",
        "print(\"The inverse matrix is:\")\n",
        "a.inv() # calculate the inverse matrix"
      ]
    },
    {
      "cell_type": "code",
      "execution_count": 78,
      "metadata": {
        "id": "4LyCQI0jpWs1",
        "outputId": "453c9440-1bfc-4aa7-8b10-b3a50fb0aa45",
        "colab": {
          "base_uri": "https://localhost:8080/",
          "height": 87
        }
      },
      "outputs": [
        {
          "output_type": "display_data",
          "data": {
            "text/plain": [
              "<IPython.core.display.Markdown object>"
            ],
            "text/markdown": "**Operation:** r2 = r2 + -5/2*r1"
          },
          "metadata": {}
        },
        {
          "output_type": "display_data",
          "data": {
            "text/plain": [
              "<IPython.core.display.Math object>"
            ],
            "text/latex": "$\\displaystyle \n        \\left[\\begin{matrix}2 & 1\\\\0 & \\frac{1}{2}\\end{matrix}\\right] \n        \\quad\n        \\left[\\begin{matrix}1 & 0\\\\- \\frac{5}{2} & 1\\end{matrix}\\right]\n        $"
          },
          "metadata": {}
        }
      ],
      "source": [
        "# Add -5/2 times \"row 1\" to \"row 2\"\n",
        "m.add_row(2, 1, -5/2)"
      ]
    },
    {
      "cell_type": "code",
      "execution_count": 68,
      "metadata": {
        "id": "rGRtoAa5pWs1",
        "outputId": "661d4aeb-d061-489c-a630-3b91809de3ce",
        "colab": {
          "base_uri": "https://localhost:8080/",
          "height": 87
        }
      },
      "outputs": [
        {
          "output_type": "display_data",
          "data": {
            "text/plain": [
              "<IPython.core.display.Markdown object>"
            ],
            "text/markdown": "**Operation:** r1 = 1/2*r1"
          },
          "metadata": {}
        },
        {
          "output_type": "display_data",
          "data": {
            "text/plain": [
              "<IPython.core.display.Math object>"
            ],
            "text/latex": "$\\displaystyle \n        \\left[\\begin{matrix}1 & \\frac{1}{2}\\\\0 & \\frac{1}{2}\\end{matrix}\\right] \n        \\quad\n        \\left[\\begin{matrix}\\frac{1}{2} & 0\\\\- \\frac{5}{2} & 1\\end{matrix}\\right]\n        $"
          },
          "metadata": {}
        }
      ],
      "source": [
        "# Multiply \"row 1\" by 1/2\n",
        "m.multiply_row(1, 1/2)"
      ]
    },
    {
      "cell_type": "code",
      "execution_count": 69,
      "metadata": {
        "id": "ERHHwPUYpWs2",
        "outputId": "9ad4a698-22db-43d5-f783-6a5ac237ae75",
        "colab": {
          "base_uri": "https://localhost:8080/",
          "height": 87
        }
      },
      "outputs": [
        {
          "output_type": "display_data",
          "data": {
            "text/plain": [
              "<IPython.core.display.Markdown object>"
            ],
            "text/markdown": "**Operation:** r1 = r1 + -1*r2"
          },
          "metadata": {}
        },
        {
          "output_type": "display_data",
          "data": {
            "text/plain": [
              "<IPython.core.display.Math object>"
            ],
            "text/latex": "$\\displaystyle \n        \\left[\\begin{matrix}1 & 0\\\\0 & \\frac{1}{2}\\end{matrix}\\right] \n        \\quad\n        \\left[\\begin{matrix}3 & -1\\\\- \\frac{5}{2} & 1\\end{matrix}\\right]\n        $"
          },
          "metadata": {}
        }
      ],
      "source": [
        "# Add -1 times \"row 2\" to \"row 1\"\n",
        "m.add_row(1, 2, -1)"
      ]
    },
    {
      "cell_type": "code",
      "execution_count": 70,
      "metadata": {
        "id": "vHG1zX-ipWs2",
        "outputId": "30aa4764-bab0-4965-e0ad-a5cdbd4bc725",
        "colab": {
          "base_uri": "https://localhost:8080/",
          "height": 87
        }
      },
      "outputs": [
        {
          "output_type": "display_data",
          "data": {
            "text/plain": [
              "<IPython.core.display.Markdown object>"
            ],
            "text/markdown": "**Operation:** r2 = 2*r2"
          },
          "metadata": {}
        },
        {
          "output_type": "display_data",
          "data": {
            "text/plain": [
              "<IPython.core.display.Math object>"
            ],
            "text/latex": "$\\displaystyle \n        \\left[\\begin{matrix}1 & 0\\\\0 & 1\\end{matrix}\\right] \n        \\quad\n        \\left[\\begin{matrix}3 & -1\\\\-5 & 2\\end{matrix}\\right]\n        $"
          },
          "metadata": {}
        }
      ],
      "source": [
        "# Multiply \"row 2\" by 2\n",
        "m.multiply_row(2, 2)"
      ]
    },
    {
      "cell_type": "markdown",
      "metadata": {
        "id": "ITE1WkDTpWs2"
      },
      "source": [
        "The matrix has been correctly computed!\n",
        "\n",
        "**Example 2**"
      ]
    },
    {
      "cell_type": "code",
      "execution_count": null,
      "metadata": {
        "id": "KX9JVZZbpWs2",
        "outputId": "c26f50cc-986a-41cf-cc92-b9ee147b88c9"
      },
      "outputs": [
        {
          "data": {
            "text/markdown": [
              "**Initial Matrix (Starting matrix):**"
            ],
            "text/plain": [
              "<IPython.core.display.Markdown object>"
            ]
          },
          "metadata": {},
          "output_type": "display_data"
        },
        {
          "data": {
            "text/latex": [
              "$\\displaystyle \n",
              "        \\left[\\begin{matrix}2 & 1 & 2\\\\5 & 3 & 1\\\\1 & 1 & 5\\end{matrix}\\right] \n",
              "        \\quad\n",
              "        \\left[\\begin{matrix}1 & 0 & 0\\\\0 & 1 & 0\\\\0 & 0 & 1\\end{matrix}\\right]\n",
              "        $"
            ],
            "text/plain": [
              "<IPython.core.display.Math object>"
            ]
          },
          "metadata": {},
          "output_type": "display_data"
        }
      ],
      "source": [
        "initial_matrix = [[2, 1, 2], [5, 3, 1], [1, 1, 5]] # 3x3 matrix\n",
        "m = InvertibleMatrix(initial_matrix) # Create an instance of the class\n",
        "sympy_m = sp.Matrix(initial_matrix) # create the initial matrix"
      ]
    },
    {
      "cell_type": "code",
      "execution_count": null,
      "metadata": {
        "id": "mLlz9qP2pWs3",
        "outputId": "8bc513c6-1bc6-40f9-8a9f-7b7f3f7f1b08"
      },
      "outputs": [
        {
          "data": {
            "text/latex": [
              "$\\displaystyle \\left[\\begin{matrix}\\frac{7}{4} & - \\frac{3}{8} & - \\frac{5}{8}\\\\-3 & 1 & 1\\\\\\frac{1}{4} & - \\frac{1}{8} & \\frac{1}{8}\\end{matrix}\\right]$"
            ],
            "text/plain": [
              "Matrix([\n",
              "[7/4, -3/8, -5/8],\n",
              "[ -3,    1,    1],\n",
              "[1/4, -1/8,  1/8]])"
            ]
          },
          "execution_count": 9,
          "metadata": {},
          "output_type": "execute_result"
        }
      ],
      "source": [
        "inverse = sympy_m.inv() # calculate the inverse matrix\n",
        "inverse"
      ]
    },
    {
      "cell_type": "code",
      "execution_count": null,
      "metadata": {
        "id": "ZvkEUCbnpWs3",
        "outputId": "4b5ea903-6a97-49e2-e2c1-1a5f25da142d"
      },
      "outputs": [
        {
          "data": {
            "text/markdown": [
              "**Operation:** r2 = r2 + -5*r3"
            ],
            "text/plain": [
              "<IPython.core.display.Markdown object>"
            ]
          },
          "metadata": {},
          "output_type": "display_data"
        },
        {
          "data": {
            "text/latex": [
              "$\\displaystyle \n",
              "        \\left[\\begin{matrix}2 & 1 & 2\\\\0 & -2 & -24\\\\1 & 1 & 5\\end{matrix}\\right] \n",
              "        \\quad\n",
              "        \\left[\\begin{matrix}1 & 0 & 0\\\\0 & 1 & -5\\\\0 & 0 & 1\\end{matrix}\\right]\n",
              "        $"
            ],
            "text/plain": [
              "<IPython.core.display.Math object>"
            ]
          },
          "metadata": {},
          "output_type": "display_data"
        }
      ],
      "source": [
        "m.add_row(2, 3, -5)"
      ]
    },
    {
      "cell_type": "code",
      "execution_count": null,
      "metadata": {
        "id": "0Nj8a8FRpWs3",
        "outputId": "ee9584c8-7a62-4225-8fa8-caa954a14e2c"
      },
      "outputs": [
        {
          "data": {
            "text/markdown": [
              "**Operation:** r3 = r3 + -1/2*r1"
            ],
            "text/plain": [
              "<IPython.core.display.Markdown object>"
            ]
          },
          "metadata": {},
          "output_type": "display_data"
        },
        {
          "data": {
            "text/latex": [
              "$\\displaystyle \n",
              "        \\left[\\begin{matrix}2 & 1 & 2\\\\0 & -2 & -24\\\\0 & \\frac{1}{2} & 4\\end{matrix}\\right] \n",
              "        \\quad\n",
              "        \\left[\\begin{matrix}1 & 0 & 0\\\\0 & 1 & -5\\\\- \\frac{1}{2} & 0 & 1\\end{matrix}\\right]\n",
              "        $"
            ],
            "text/plain": [
              "<IPython.core.display.Math object>"
            ]
          },
          "metadata": {},
          "output_type": "display_data"
        }
      ],
      "source": [
        "m.add_row(3, 1, -1/2)"
      ]
    },
    {
      "cell_type": "code",
      "execution_count": null,
      "metadata": {
        "id": "BF9qAbgNpWs3",
        "outputId": "d310ddef-7cd6-46e5-dcfa-05a343bce089"
      },
      "outputs": [
        {
          "data": {
            "text/markdown": [
              "**Operation:** r3 = 4*r3"
            ],
            "text/plain": [
              "<IPython.core.display.Markdown object>"
            ]
          },
          "metadata": {},
          "output_type": "display_data"
        },
        {
          "data": {
            "text/latex": [
              "$\\displaystyle \n",
              "        \\left[\\begin{matrix}2 & 1 & 2\\\\0 & -2 & -24\\\\0 & 2 & 16\\end{matrix}\\right] \n",
              "        \\quad\n",
              "        \\left[\\begin{matrix}1 & 0 & 0\\\\0 & 1 & -5\\\\-2 & 0 & 4\\end{matrix}\\right]\n",
              "        $"
            ],
            "text/plain": [
              "<IPython.core.display.Math object>"
            ]
          },
          "metadata": {},
          "output_type": "display_data"
        }
      ],
      "source": [
        "m.multiply_row(3, 4)"
      ]
    },
    {
      "cell_type": "code",
      "execution_count": null,
      "metadata": {
        "id": "j1ApUNhOpWs3",
        "outputId": "72d56a83-8c9d-4ae8-d74f-97d527620446"
      },
      "outputs": [
        {
          "data": {
            "text/markdown": [
              "**Operation:** r3 = r3 + 1*r2"
            ],
            "text/plain": [
              "<IPython.core.display.Markdown object>"
            ]
          },
          "metadata": {},
          "output_type": "display_data"
        },
        {
          "data": {
            "text/latex": [
              "$\\displaystyle \n",
              "        \\left[\\begin{matrix}2 & 1 & 2\\\\0 & -2 & -24\\\\0 & 0 & -8\\end{matrix}\\right] \n",
              "        \\quad\n",
              "        \\left[\\begin{matrix}1 & 0 & 0\\\\0 & 1 & -5\\\\-2 & 1 & -1\\end{matrix}\\right]\n",
              "        $"
            ],
            "text/plain": [
              "<IPython.core.display.Math object>"
            ]
          },
          "metadata": {},
          "output_type": "display_data"
        }
      ],
      "source": [
        "m.add_row(3, 2, 1)"
      ]
    },
    {
      "cell_type": "code",
      "execution_count": null,
      "metadata": {
        "id": "J6mBUnIUpWs3",
        "outputId": "221525eb-0a3b-4a05-959f-b99b3415d233"
      },
      "outputs": [
        {
          "data": {
            "text/markdown": [
              "**Operation:** r3 = -1/8*r3"
            ],
            "text/plain": [
              "<IPython.core.display.Markdown object>"
            ]
          },
          "metadata": {},
          "output_type": "display_data"
        },
        {
          "data": {
            "text/latex": [
              "$\\displaystyle \n",
              "        \\left[\\begin{matrix}2 & 1 & 2\\\\0 & -2 & -24\\\\0 & 0 & 1\\end{matrix}\\right] \n",
              "        \\quad\n",
              "        \\left[\\begin{matrix}1 & 0 & 0\\\\0 & 1 & -5\\\\\\frac{1}{4} & - \\frac{1}{8} & \\frac{1}{8}\\end{matrix}\\right]\n",
              "        $"
            ],
            "text/plain": [
              "<IPython.core.display.Math object>"
            ]
          },
          "metadata": {},
          "output_type": "display_data"
        }
      ],
      "source": [
        "m.multiply_row(3, -1/8)"
      ]
    },
    {
      "cell_type": "code",
      "execution_count": null,
      "metadata": {
        "id": "ihnFtVz5pWs4",
        "outputId": "c2d29d62-a3ea-4963-e00f-8721b118405b"
      },
      "outputs": [
        {
          "data": {
            "text/markdown": [
              "**Operation:** r2 = -1/2*r2"
            ],
            "text/plain": [
              "<IPython.core.display.Markdown object>"
            ]
          },
          "metadata": {},
          "output_type": "display_data"
        },
        {
          "data": {
            "text/latex": [
              "$\\displaystyle \n",
              "        \\left[\\begin{matrix}2 & 1 & 2\\\\0 & 1 & 12\\\\0 & 0 & 1\\end{matrix}\\right] \n",
              "        \\quad\n",
              "        \\left[\\begin{matrix}1 & 0 & 0\\\\0 & - \\frac{1}{2} & \\frac{5}{2}\\\\\\frac{1}{4} & - \\frac{1}{8} & \\frac{1}{8}\\end{matrix}\\right]\n",
              "        $"
            ],
            "text/plain": [
              "<IPython.core.display.Math object>"
            ]
          },
          "metadata": {},
          "output_type": "display_data"
        }
      ],
      "source": [
        "m.multiply_row(2, -1/2)"
      ]
    },
    {
      "cell_type": "code",
      "execution_count": null,
      "metadata": {
        "id": "-RhjSiRWpWs4",
        "outputId": "48027ae1-ceaf-4e10-def9-0847357e337c"
      },
      "outputs": [
        {
          "data": {
            "text/markdown": [
              "**Operation:** r2 = r2 + -12*r3"
            ],
            "text/plain": [
              "<IPython.core.display.Markdown object>"
            ]
          },
          "metadata": {},
          "output_type": "display_data"
        },
        {
          "data": {
            "text/latex": [
              "$\\displaystyle \n",
              "        \\left[\\begin{matrix}2 & 1 & 2\\\\0 & 1 & 0\\\\0 & 0 & 1\\end{matrix}\\right] \n",
              "        \\quad\n",
              "        \\left[\\begin{matrix}1 & 0 & 0\\\\-3 & 1 & 1\\\\\\frac{1}{4} & - \\frac{1}{8} & \\frac{1}{8}\\end{matrix}\\right]\n",
              "        $"
            ],
            "text/plain": [
              "<IPython.core.display.Math object>"
            ]
          },
          "metadata": {},
          "output_type": "display_data"
        }
      ],
      "source": [
        "m.add_row(2, 3, -12)"
      ]
    },
    {
      "cell_type": "code",
      "execution_count": null,
      "metadata": {
        "id": "pBwrXGuppWs4",
        "outputId": "0214eff0-98a2-483b-9138-edbc18aec6ef"
      },
      "outputs": [
        {
          "data": {
            "text/markdown": [
              "**Operation:** r1 = r1 + -2*r3"
            ],
            "text/plain": [
              "<IPython.core.display.Markdown object>"
            ]
          },
          "metadata": {},
          "output_type": "display_data"
        },
        {
          "data": {
            "text/latex": [
              "$\\displaystyle \n",
              "        \\left[\\begin{matrix}2 & 1 & 0\\\\0 & 1 & 0\\\\0 & 0 & 1\\end{matrix}\\right] \n",
              "        \\quad\n",
              "        \\left[\\begin{matrix}\\frac{1}{2} & \\frac{1}{4} & - \\frac{1}{4}\\\\-3 & 1 & 1\\\\\\frac{1}{4} & - \\frac{1}{8} & \\frac{1}{8}\\end{matrix}\\right]\n",
              "        $"
            ],
            "text/plain": [
              "<IPython.core.display.Math object>"
            ]
          },
          "metadata": {},
          "output_type": "display_data"
        }
      ],
      "source": [
        "m.add_row(1, 3, -2)"
      ]
    },
    {
      "cell_type": "code",
      "execution_count": null,
      "metadata": {
        "id": "6A6J5D1EpWs4",
        "outputId": "4909c023-19d6-4a9d-cc71-ab16d0040890"
      },
      "outputs": [
        {
          "data": {
            "text/markdown": [
              "**Operation:** r1 = r1 + -1*r2"
            ],
            "text/plain": [
              "<IPython.core.display.Markdown object>"
            ]
          },
          "metadata": {},
          "output_type": "display_data"
        },
        {
          "data": {
            "text/latex": [
              "$\\displaystyle \n",
              "        \\left[\\begin{matrix}2 & 0 & 0\\\\0 & 1 & 0\\\\0 & 0 & 1\\end{matrix}\\right] \n",
              "        \\quad\n",
              "        \\left[\\begin{matrix}\\frac{7}{2} & - \\frac{3}{4} & - \\frac{5}{4}\\\\-3 & 1 & 1\\\\\\frac{1}{4} & - \\frac{1}{8} & \\frac{1}{8}\\end{matrix}\\right]\n",
              "        $"
            ],
            "text/plain": [
              "<IPython.core.display.Math object>"
            ]
          },
          "metadata": {},
          "output_type": "display_data"
        }
      ],
      "source": [
        "m.add_row(1, 2, -1)"
      ]
    },
    {
      "cell_type": "code",
      "execution_count": null,
      "metadata": {
        "id": "yp0lKNpjpWs4",
        "outputId": "5d3bdc7e-212d-41c8-e687-79a90b38dcec"
      },
      "outputs": [
        {
          "data": {
            "text/markdown": [
              "**Operation:** r1 = 1/2*r1"
            ],
            "text/plain": [
              "<IPython.core.display.Markdown object>"
            ]
          },
          "metadata": {},
          "output_type": "display_data"
        },
        {
          "data": {
            "text/latex": [
              "$\\displaystyle \n",
              "        \\left[\\begin{matrix}1 & 0 & 0\\\\0 & 1 & 0\\\\0 & 0 & 1\\end{matrix}\\right] \n",
              "        \\quad\n",
              "        \\left[\\begin{matrix}\\frac{7}{4} & - \\frac{3}{8} & - \\frac{5}{8}\\\\-3 & 1 & 1\\\\\\frac{1}{4} & - \\frac{1}{8} & \\frac{1}{8}\\end{matrix}\\right]\n",
              "        $"
            ],
            "text/plain": [
              "<IPython.core.display.Math object>"
            ]
          },
          "metadata": {},
          "output_type": "display_data"
        }
      ],
      "source": [
        "m.multiply_row(1, 1/2)"
      ]
    },
    {
      "cell_type": "markdown",
      "metadata": {
        "id": "8nqKoCflpWs4"
      },
      "source": [
        "---\n",
        "\n",
        "## Exercises for Students\n",
        "\n",
        "Find the inverse matrices using the Gauss method:\n",
        "\n",
        "$$\n",
        "A=\n",
        "\\begin{bmatrix}\n",
        "1 & 2\\\\\n",
        "3 & 4\n",
        "\\end{bmatrix}\n",
        ", \\qquad\n",
        "B=\n",
        "\\begin{bmatrix}\n",
        "1 & 2 & 3 \\\\\n",
        "4 & 5 & 1 \\\\\n",
        "2 & 3 & 2\n",
        "\\end{bmatrix}\n",
        ",\\qquad\n",
        "C=\n",
        "\\begin{bmatrix}\n",
        "0 & 0 & 1\\\\\n",
        "0 & 1 & 0\\\\\n",
        "1 & 0 & 0\n",
        "\\end{bmatrix}\n",
        "$$"
      ]
    },
    {
      "cell_type": "code",
      "source": [
        "# 1\n",
        "A = [[1, 2], [3, 4]] #\n",
        "\n",
        "m = InvertibleMatrix(A)\n",
        "\n",
        "import sympy as sp\n",
        "a = sp.Matrix(A)\n",
        "print(\"The inverse matrix is:\")\n",
        "a.inv()\n",
        "\n",
        "def determ2x2(matrix):\n",
        "       return (matrix[0,0] * matrix[1,1]) - (matrix[0,1] * matrix[1,0])\n",
        "\n",
        "detA = determ2x2(a)\n",
        "detA\n",
        "if (detA == 0):\n",
        "    print(\"The Matrix does not nave an invert\")\n",
        "\n",
        "\n",
        "m.add_row(2, 1, -3)\n",
        "\n",
        "m.multiply_row(1, 1)\n",
        "\n",
        "m.add_row(1, 2, 1)\n",
        "\n",
        "m.multiply_row(2, -1/2)\n"
      ],
      "metadata": {
        "id": "BgO-w62ZuHbs",
        "outputId": "a6755ced-0e81-43ca-c447-bb3652e4cd15",
        "colab": {
          "base_uri": "https://localhost:8080/",
          "height": 384
        }
      },
      "execution_count": 99,
      "outputs": [
        {
          "output_type": "display_data",
          "data": {
            "text/plain": [
              "<IPython.core.display.Markdown object>"
            ],
            "text/markdown": "**Initial Matrix (Starting matrix):**"
          },
          "metadata": {}
        },
        {
          "output_type": "display_data",
          "data": {
            "text/plain": [
              "<IPython.core.display.Math object>"
            ],
            "text/latex": "$\\displaystyle \n        \\left[\\begin{matrix}1 & 2\\\\3 & 4\\end{matrix}\\right] \n        \\quad\n        \\left[\\begin{matrix}1 & 0\\\\0 & 1\\end{matrix}\\right]\n        $"
          },
          "metadata": {}
        },
        {
          "output_type": "stream",
          "name": "stdout",
          "text": [
            "The inverse matrix is:\n"
          ]
        },
        {
          "output_type": "display_data",
          "data": {
            "text/plain": [
              "<IPython.core.display.Markdown object>"
            ],
            "text/markdown": "**Operation:** r2 = r2 + -3*r1"
          },
          "metadata": {}
        },
        {
          "output_type": "display_data",
          "data": {
            "text/plain": [
              "<IPython.core.display.Math object>"
            ],
            "text/latex": "$\\displaystyle \n        \\left[\\begin{matrix}1 & 2\\\\0 & -2\\end{matrix}\\right] \n        \\quad\n        \\left[\\begin{matrix}1 & 0\\\\-3 & 1\\end{matrix}\\right]\n        $"
          },
          "metadata": {}
        },
        {
          "output_type": "display_data",
          "data": {
            "text/plain": [
              "<IPython.core.display.Markdown object>"
            ],
            "text/markdown": "**Operation:** r1 = 1*r1"
          },
          "metadata": {}
        },
        {
          "output_type": "display_data",
          "data": {
            "text/plain": [
              "<IPython.core.display.Math object>"
            ],
            "text/latex": "$\\displaystyle \n        \\left[\\begin{matrix}1 & 2\\\\0 & -2\\end{matrix}\\right] \n        \\quad\n        \\left[\\begin{matrix}1 & 0\\\\-3 & 1\\end{matrix}\\right]\n        $"
          },
          "metadata": {}
        },
        {
          "output_type": "display_data",
          "data": {
            "text/plain": [
              "<IPython.core.display.Markdown object>"
            ],
            "text/markdown": "**Operation:** r1 = r1 + 1*r2"
          },
          "metadata": {}
        },
        {
          "output_type": "display_data",
          "data": {
            "text/plain": [
              "<IPython.core.display.Math object>"
            ],
            "text/latex": "$\\displaystyle \n        \\left[\\begin{matrix}1 & 0\\\\0 & -2\\end{matrix}\\right] \n        \\quad\n        \\left[\\begin{matrix}-2 & 1\\\\-3 & 1\\end{matrix}\\right]\n        $"
          },
          "metadata": {}
        },
        {
          "output_type": "display_data",
          "data": {
            "text/plain": [
              "<IPython.core.display.Markdown object>"
            ],
            "text/markdown": "**Operation:** r2 = -1/2*r2"
          },
          "metadata": {}
        },
        {
          "output_type": "display_data",
          "data": {
            "text/plain": [
              "<IPython.core.display.Math object>"
            ],
            "text/latex": "$\\displaystyle \n        \\left[\\begin{matrix}1 & 0\\\\0 & 1\\end{matrix}\\right] \n        \\quad\n        \\left[\\begin{matrix}-2 & 1\\\\\\frac{3}{2} & - \\frac{1}{2}\\end{matrix}\\right]\n        $"
          },
          "metadata": {}
        }
      ]
    },
    {
      "cell_type": "code",
      "source": [
        "# 2\n",
        "B = [[1, 2, 3], [4, 5, 6], [7, 8, 9]]\n",
        "\n",
        "m = InvertibleMatrix(B)\n",
        "\n",
        "import sympy as sp\n",
        "b = sp.Matrix(B)\n",
        "print(\"The inverse matrix is:\")\n",
        "\n",
        "def determ2x2(matrix):\n",
        "       return (matrix[0,0] * matrix[1,1]) - (matrix[0,1] * matrix[1,0])\n",
        "\n",
        "def determ3x3(matrix):\n",
        "    Mat11 = sp.Matrix([[matrix[1, 1], matrix[1, 2]], [matrix[2, 1], matrix[2, 2]]])\n",
        "    Mat12 = sp.Matrix([[matrix[1, 0], matrix[1, 2]], [matrix[2, 0], matrix[2, 2]]])\n",
        "    Mat13 = sp.Matrix([[matrix[1, 0], matrix[1, 1]], [matrix[2, 0], matrix[2, 1]]])\n",
        "    return (matrix[0,0]*determ2x2(Mat11) - matrix[0,1]*determ2x2(Mat12) + matrix[0,2]*determ2x2(Mat13))\n",
        "\n",
        "detB = determ3x3(b)\n",
        "detB\n",
        "if (detB == 0):\n",
        "    print(\"The Matrix does not nave an invert\")\n"
      ],
      "metadata": {
        "id": "Ca9qmi7Q9X7g",
        "outputId": "fa32c3ee-7381-4e2a-c098-909a481f0e41",
        "colab": {
          "base_uri": "https://localhost:8080/",
          "height": 142
        }
      },
      "execution_count": 94,
      "outputs": [
        {
          "output_type": "display_data",
          "data": {
            "text/plain": [
              "<IPython.core.display.Markdown object>"
            ],
            "text/markdown": "**Initial Matrix (Starting matrix):**"
          },
          "metadata": {}
        },
        {
          "output_type": "display_data",
          "data": {
            "text/plain": [
              "<IPython.core.display.Math object>"
            ],
            "text/latex": "$\\displaystyle \n        \\left[\\begin{matrix}1 & 2 & 3\\\\4 & 5 & 6\\\\7 & 8 & 9\\end{matrix}\\right] \n        \\quad\n        \\left[\\begin{matrix}1 & 0 & 0\\\\0 & 1 & 0\\\\0 & 0 & 1\\end{matrix}\\right]\n        $"
          },
          "metadata": {}
        },
        {
          "output_type": "stream",
          "name": "stdout",
          "text": [
            "The inverse matrix is:\n",
            "The Matrix does not nave an invert\n"
          ]
        }
      ]
    },
    {
      "cell_type": "code",
      "source": [
        "C = [[0, 0, 1], [0, 1, 0], [1, 0, 0]]\n",
        "\n",
        "m = InvertibleMatrix(C)\n",
        "\n",
        "import sympy as sp\n",
        "c = sp.Matrix(C)\n",
        "print(\"The inverse matrix is:\")\n",
        "\n",
        "def determ2x2(matrix):\n",
        "       return (matrix[0,0] * matrix[1,1]) - (matrix[0,1] * matrix[1,0])\n",
        "\n",
        "def determ3x3(matrix):\n",
        "    Mat11 = sp.Matrix([[matrix[1, 1], matrix[1, 2]], [matrix[2, 1], matrix[2, 2]]])\n",
        "    Mat12 = sp.Matrix([[matrix[1, 0], matrix[1, 2]], [matrix[2, 0], matrix[2, 2]]])\n",
        "    Mat13 = sp.Matrix([[matrix[1, 0], matrix[1, 1]], [matrix[2, 0], matrix[2, 1]]])\n",
        "    return (matrix[0,0]*determ2x2(Mat11) - matrix[0,1]*determ2x2(Mat12) + matrix[0,2]*determ2x2(Mat13))\n",
        "\n",
        "detC = determ3x3(c)\n",
        "detC\n",
        "if (detC == 0):\n",
        "    print(\"The Matrix does not nave an invert\")\n",
        "\n",
        "\n",
        "m.add_row(1, 3, 1)\n",
        "\n",
        "m.add_row(3, 1, -1)\n",
        "\n",
        "m.multiply_row(3, -1)\n",
        "\n",
        "m.add_row(1, 3, -1)"
      ],
      "metadata": {
        "id": "bH65OIG3_Kzn",
        "outputId": "09899cf5-c3da-4679-fe2e-4a9ea2a292ea",
        "colab": {
          "base_uri": "https://localhost:8080/",
          "height": 547
        }
      },
      "execution_count": 114,
      "outputs": [
        {
          "output_type": "display_data",
          "data": {
            "text/plain": [
              "<IPython.core.display.Markdown object>"
            ],
            "text/markdown": "**Initial Matrix (Starting matrix):**"
          },
          "metadata": {}
        },
        {
          "output_type": "display_data",
          "data": {
            "text/plain": [
              "<IPython.core.display.Math object>"
            ],
            "text/latex": "$\\displaystyle \n        \\left[\\begin{matrix}0 & 0 & 1\\\\0 & 1 & 0\\\\1 & 0 & 0\\end{matrix}\\right] \n        \\quad\n        \\left[\\begin{matrix}1 & 0 & 0\\\\0 & 1 & 0\\\\0 & 0 & 1\\end{matrix}\\right]\n        $"
          },
          "metadata": {}
        },
        {
          "output_type": "stream",
          "name": "stdout",
          "text": [
            "The inverse matrix is:\n"
          ]
        },
        {
          "output_type": "display_data",
          "data": {
            "text/plain": [
              "<IPython.core.display.Markdown object>"
            ],
            "text/markdown": "**Operation:** r1 = r1 + 1*r3"
          },
          "metadata": {}
        },
        {
          "output_type": "display_data",
          "data": {
            "text/plain": [
              "<IPython.core.display.Math object>"
            ],
            "text/latex": "$\\displaystyle \n        \\left[\\begin{matrix}1 & 0 & 1\\\\0 & 1 & 0\\\\1 & 0 & 0\\end{matrix}\\right] \n        \\quad\n        \\left[\\begin{matrix}1 & 0 & 1\\\\0 & 1 & 0\\\\0 & 0 & 1\\end{matrix}\\right]\n        $"
          },
          "metadata": {}
        },
        {
          "output_type": "display_data",
          "data": {
            "text/plain": [
              "<IPython.core.display.Markdown object>"
            ],
            "text/markdown": "**Operation:** r3 = r3 + -1*r1"
          },
          "metadata": {}
        },
        {
          "output_type": "display_data",
          "data": {
            "text/plain": [
              "<IPython.core.display.Math object>"
            ],
            "text/latex": "$\\displaystyle \n        \\left[\\begin{matrix}1 & 0 & 1\\\\0 & 1 & 0\\\\0 & 0 & -1\\end{matrix}\\right] \n        \\quad\n        \\left[\\begin{matrix}1 & 0 & 1\\\\0 & 1 & 0\\\\-1 & 0 & 0\\end{matrix}\\right]\n        $"
          },
          "metadata": {}
        },
        {
          "output_type": "display_data",
          "data": {
            "text/plain": [
              "<IPython.core.display.Markdown object>"
            ],
            "text/markdown": "**Operation:** r3 = -1*r3"
          },
          "metadata": {}
        },
        {
          "output_type": "display_data",
          "data": {
            "text/plain": [
              "<IPython.core.display.Math object>"
            ],
            "text/latex": "$\\displaystyle \n        \\left[\\begin{matrix}1 & 0 & 1\\\\0 & 1 & 0\\\\0 & 0 & 1\\end{matrix}\\right] \n        \\quad\n        \\left[\\begin{matrix}1 & 0 & 1\\\\0 & 1 & 0\\\\1 & 0 & 0\\end{matrix}\\right]\n        $"
          },
          "metadata": {}
        },
        {
          "output_type": "display_data",
          "data": {
            "text/plain": [
              "<IPython.core.display.Markdown object>"
            ],
            "text/markdown": "**Operation:** r1 = r1 + -1*r3"
          },
          "metadata": {}
        },
        {
          "output_type": "display_data",
          "data": {
            "text/plain": [
              "<IPython.core.display.Math object>"
            ],
            "text/latex": "$\\displaystyle \n        \\left[\\begin{matrix}1 & 0 & 0\\\\0 & 1 & 0\\\\0 & 0 & 1\\end{matrix}\\right] \n        \\quad\n        \\left[\\begin{matrix}0 & 0 & 1\\\\0 & 1 & 0\\\\1 & 0 & 0\\end{matrix}\\right]\n        $"
          },
          "metadata": {}
        },
        {
          "output_type": "execute_result",
          "data": {
            "text/plain": [
              "Matrix([\n",
              "[1, 0, 0],\n",
              "[0, 1, 0],\n",
              "[0, 0, 1]])"
            ],
            "text/latex": "$\\displaystyle \\left[\\begin{matrix}1 & 0 & 0\\\\0 & 1 & 0\\\\0 & 0 & 1\\end{matrix}\\right]$"
          },
          "metadata": {},
          "execution_count": 114
        }
      ]
    },
    {
      "cell_type": "code",
      "source": [],
      "metadata": {
        "id": "7IKVdQXFDGgi"
      },
      "execution_count": null,
      "outputs": []
    }
  ],
  "metadata": {
    "kernelspec": {
      "display_name": "Python 3",
      "language": "python",
      "name": "python3"
    },
    "language_info": {
      "codemirror_mode": {
        "name": "ipython",
        "version": 3
      },
      "file_extension": ".py",
      "mimetype": "text/x-python",
      "name": "python",
      "nbconvert_exporter": "python",
      "pygments_lexer": "ipython3",
      "version": "3.11.9"
    },
    "colab": {
      "provenance": []
    }
  },
  "nbformat": 4,
  "nbformat_minor": 0
}
